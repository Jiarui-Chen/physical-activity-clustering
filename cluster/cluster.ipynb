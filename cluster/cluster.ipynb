{
 "cells": [
  {
   "cell_type": "markdown",
   "metadata": {},
   "source": [
    "# Clustering"
   ]
  },
  {
   "cell_type": "code",
   "execution_count": 15,
   "metadata": {},
   "outputs": [],
   "source": [
    "import pandas as pd\n",
    "import numpy as np\n",
    "import seaborn as sns\n",
    "import matplotlib.pyplot as plt\n",
    "from sklearn.utils import resample\n",
    "from sklearn.cluster import KMeans\n",
    "from sklearn import mixture\n",
    "from scipy.stats import mode\n",
    "from tqdm import tqdm"
   ]
  },
  {
   "cell_type": "markdown",
   "metadata": {},
   "source": [
    "### Baseline Model Kaggle Submission"
   ]
  },
  {
   "cell_type": "code",
   "execution_count": 16,
   "metadata": {},
   "outputs": [],
   "source": [
    "# Reorder the laebl and format output for kaggle submission\n",
    "def format_submission(df, label_col = \"label\"):\n",
    "    df = df.sort_index()\n",
    "    df = pd.DataFrame(df[label_col])\n",
    "    label_mapping = {}\n",
    "    activtyID_list = []\n",
    "    raw_label = df[label_col].tolist()\n",
    "    for l in raw_label:\n",
    "        if len(label_mapping) == 0:\n",
    "            label_mapping[l] = 1 # Final label starts with 1\n",
    "            activtyID_list.append(1)\n",
    "        elif l not in label_mapping:\n",
    "            label_mapping[l] = max(list(label_mapping.values())) + 1\n",
    "            activtyID_list.append(label_mapping[l])\n",
    "        else:\n",
    "            activtyID_list.append(label_mapping[l])\n",
    "    df[\"activityID\"] = activtyID_list\n",
    "    print(df)\n",
    "    df.drop(label_col, axis=1, inplace=True)\n",
    "    df.to_csv(\"../data/submission.csv\", index=True, index_label=[\"Index\"])"
   ]
  },
  {
   "cell_type": "code",
   "execution_count": 17,
   "metadata": {},
   "outputs": [
    {
     "data": {
      "text/html": [
       "<div>\n",
       "<style scoped>\n",
       "    .dataframe tbody tr th:only-of-type {\n",
       "        vertical-align: middle;\n",
       "    }\n",
       "\n",
       "    .dataframe tbody tr th {\n",
       "        vertical-align: top;\n",
       "    }\n",
       "\n",
       "    .dataframe thead th {\n",
       "        text-align: right;\n",
       "    }\n",
       "</style>\n",
       "<table border=\"1\" class=\"dataframe\">\n",
       "  <thead>\n",
       "    <tr style=\"text-align: right;\">\n",
       "      <th></th>\n",
       "      <th>timestamp</th>\n",
       "      <th>handTemperature</th>\n",
       "      <th>handAcc6_1</th>\n",
       "      <th>handAcc6_2</th>\n",
       "      <th>handAcc6_3</th>\n",
       "      <th>handGyro1</th>\n",
       "      <th>handGyro2</th>\n",
       "      <th>handGyro3</th>\n",
       "      <th>handMagne1</th>\n",
       "      <th>handMagne2</th>\n",
       "      <th>...</th>\n",
       "      <th>ankleGyro2</th>\n",
       "      <th>ankleGyro3</th>\n",
       "      <th>ankleMagne1</th>\n",
       "      <th>ankleMagne2</th>\n",
       "      <th>ankleMagne3</th>\n",
       "      <th>ankleOrientation1</th>\n",
       "      <th>ankleOrientation2</th>\n",
       "      <th>ankleOrientation3</th>\n",
       "      <th>ankleOrientation4</th>\n",
       "      <th>subject_id</th>\n",
       "    </tr>\n",
       "  </thead>\n",
       "  <tbody>\n",
       "    <tr>\n",
       "      <th>54744</th>\n",
       "      <td>0.000000</td>\n",
       "      <td>0.000000</td>\n",
       "      <td>0.401837</td>\n",
       "      <td>0.305836</td>\n",
       "      <td>0.312975</td>\n",
       "      <td>0.365663</td>\n",
       "      <td>0.375128</td>\n",
       "      <td>0.348325</td>\n",
       "      <td>0.395243</td>\n",
       "      <td>0.602510</td>\n",
       "      <td>...</td>\n",
       "      <td>0.393462</td>\n",
       "      <td>0.408262</td>\n",
       "      <td>0.524000</td>\n",
       "      <td>0.606851</td>\n",
       "      <td>0.672272</td>\n",
       "      <td>0.000000</td>\n",
       "      <td>0.417775</td>\n",
       "      <td>0.397926</td>\n",
       "      <td>0.382401</td>\n",
       "      <td>0.000000</td>\n",
       "    </tr>\n",
       "    <tr>\n",
       "      <th>440445</th>\n",
       "      <td>0.000010</td>\n",
       "      <td>0.221712</td>\n",
       "      <td>0.407010</td>\n",
       "      <td>0.320915</td>\n",
       "      <td>0.331777</td>\n",
       "      <td>0.363704</td>\n",
       "      <td>0.375426</td>\n",
       "      <td>0.347909</td>\n",
       "      <td>0.414974</td>\n",
       "      <td>0.503768</td>\n",
       "      <td>...</td>\n",
       "      <td>0.392289</td>\n",
       "      <td>0.408283</td>\n",
       "      <td>0.439128</td>\n",
       "      <td>0.547871</td>\n",
       "      <td>0.552465</td>\n",
       "      <td>0.224084</td>\n",
       "      <td>0.417775</td>\n",
       "      <td>0.397926</td>\n",
       "      <td>0.382401</td>\n",
       "      <td>0.054067</td>\n",
       "    </tr>\n",
       "    <tr>\n",
       "      <th>238954</th>\n",
       "      <td>0.000013</td>\n",
       "      <td>0.403079</td>\n",
       "      <td>0.411922</td>\n",
       "      <td>0.332959</td>\n",
       "      <td>0.351309</td>\n",
       "      <td>0.362150</td>\n",
       "      <td>0.376479</td>\n",
       "      <td>0.347719</td>\n",
       "      <td>0.433637</td>\n",
       "      <td>0.396614</td>\n",
       "      <td>...</td>\n",
       "      <td>0.389738</td>\n",
       "      <td>0.408373</td>\n",
       "      <td>0.346387</td>\n",
       "      <td>0.485368</td>\n",
       "      <td>0.418185</td>\n",
       "      <td>0.407032</td>\n",
       "      <td>0.417775</td>\n",
       "      <td>0.397926</td>\n",
       "      <td>0.382401</td>\n",
       "      <td>0.105361</td>\n",
       "    </tr>\n",
       "    <tr>\n",
       "      <th>22854</th>\n",
       "      <td>0.000015</td>\n",
       "      <td>0.403079</td>\n",
       "      <td>0.411586</td>\n",
       "      <td>0.330196</td>\n",
       "      <td>0.352917</td>\n",
       "      <td>0.363331</td>\n",
       "      <td>0.376686</td>\n",
       "      <td>0.348301</td>\n",
       "      <td>0.433644</td>\n",
       "      <td>0.400297</td>\n",
       "      <td>...</td>\n",
       "      <td>0.388636</td>\n",
       "      <td>0.408238</td>\n",
       "      <td>0.344753</td>\n",
       "      <td>0.486169</td>\n",
       "      <td>0.421614</td>\n",
       "      <td>0.407032</td>\n",
       "      <td>0.417775</td>\n",
       "      <td>0.397926</td>\n",
       "      <td>0.382401</td>\n",
       "      <td>0.105361</td>\n",
       "    </tr>\n",
       "    <tr>\n",
       "      <th>366131</th>\n",
       "      <td>0.000020</td>\n",
       "      <td>0.403079</td>\n",
       "      <td>0.411493</td>\n",
       "      <td>0.330628</td>\n",
       "      <td>0.353978</td>\n",
       "      <td>0.366726</td>\n",
       "      <td>0.376706</td>\n",
       "      <td>0.348739</td>\n",
       "      <td>0.433160</td>\n",
       "      <td>0.401241</td>\n",
       "      <td>...</td>\n",
       "      <td>0.390618</td>\n",
       "      <td>0.407909</td>\n",
       "      <td>0.340365</td>\n",
       "      <td>0.485572</td>\n",
       "      <td>0.420735</td>\n",
       "      <td>0.407032</td>\n",
       "      <td>0.417775</td>\n",
       "      <td>0.397926</td>\n",
       "      <td>0.382401</td>\n",
       "      <td>0.105361</td>\n",
       "    </tr>\n",
       "  </tbody>\n",
       "</table>\n",
       "<p>5 rows × 44 columns</p>\n",
       "</div>"
      ],
      "text/plain": [
       "        timestamp  handTemperature  handAcc6_1  handAcc6_2  handAcc6_3  \\\n",
       "54744    0.000000         0.000000    0.401837    0.305836    0.312975   \n",
       "440445   0.000010         0.221712    0.407010    0.320915    0.331777   \n",
       "238954   0.000013         0.403079    0.411922    0.332959    0.351309   \n",
       "22854    0.000015         0.403079    0.411586    0.330196    0.352917   \n",
       "366131   0.000020         0.403079    0.411493    0.330628    0.353978   \n",
       "\n",
       "        handGyro1  handGyro2  handGyro3  handMagne1  handMagne2  ...  \\\n",
       "54744    0.365663   0.375128   0.348325    0.395243    0.602510  ...   \n",
       "440445   0.363704   0.375426   0.347909    0.414974    0.503768  ...   \n",
       "238954   0.362150   0.376479   0.347719    0.433637    0.396614  ...   \n",
       "22854    0.363331   0.376686   0.348301    0.433644    0.400297  ...   \n",
       "366131   0.366726   0.376706   0.348739    0.433160    0.401241  ...   \n",
       "\n",
       "        ankleGyro2  ankleGyro3  ankleMagne1  ankleMagne2  ankleMagne3  \\\n",
       "54744     0.393462    0.408262     0.524000     0.606851     0.672272   \n",
       "440445    0.392289    0.408283     0.439128     0.547871     0.552465   \n",
       "238954    0.389738    0.408373     0.346387     0.485368     0.418185   \n",
       "22854     0.388636    0.408238     0.344753     0.486169     0.421614   \n",
       "366131    0.390618    0.407909     0.340365     0.485572     0.420735   \n",
       "\n",
       "        ankleOrientation1  ankleOrientation2  ankleOrientation3  \\\n",
       "54744            0.000000           0.417775           0.397926   \n",
       "440445           0.224084           0.417775           0.397926   \n",
       "238954           0.407032           0.417775           0.397926   \n",
       "22854            0.407032           0.417775           0.397926   \n",
       "366131           0.407032           0.417775           0.397926   \n",
       "\n",
       "        ankleOrientation4  subject_id  \n",
       "54744            0.382401    0.000000  \n",
       "440445           0.382401    0.054067  \n",
       "238954           0.382401    0.105361  \n",
       "22854            0.382401    0.105361  \n",
       "366131           0.382401    0.105361  \n",
       "\n",
       "[5 rows x 44 columns]"
      ]
     },
     "execution_count": 17,
     "metadata": {},
     "output_type": "execute_result"
    }
   ],
   "source": [
    "# Load the PCA-transformed data\n",
    "pca_df = pd.read_pickle('../data/time_series_experiment.pkl')\n",
    "pca_df.head(5)"
   ]
  },
  {
   "cell_type": "code",
   "execution_count": 18,
   "metadata": {},
   "outputs": [
    {
     "data": {
      "image/png": "[encoded data removed]",
      "text/plain": [
       "<Figure size 640x480 with 2 Axes>"
      ]
     },
     "metadata": {},
     "output_type": "display_data"
    }
   ],
   "source": [
    "# Plot correlation matrix of principal components\n",
    "corr_matrix = pca_df.corr()\n",
    "sns.heatmap(corr_matrix, annot=True, cmap='coolwarm')\n",
    "plt.title('Correlation matrix of principal components')\n",
    "plt.show()"
   ]
  },
  {
   "cell_type": "markdown",
   "metadata": {},
   "source": [
    "### KMeans"
   ]
  },
  {
   "cell_type": "code",
   "execution_count": 19,
   "metadata": {},
   "outputs": [
    {
     "data": {
      "image/png": "[encoded data removed]",
      "text/plain": [
       "<Figure size 1000x600 with 1 Axes>"
      ]
     },
     "metadata": {},
     "output_type": "display_data"
    },
    {
     "name": "stdout",
     "output_type": "stream",
     "text": [
      "CPU times: user 5min 11s, sys: 19.4 s, total: 5min 30s\n",
      "Wall time: 57.1 s\n"
     ]
    }
   ],
   "source": [
    "%%time\n",
    "\n",
    "# Determine the optimal number of clusters using the Elbow Method\n",
    "wcss = []  # Within-cluster sum of squares\n",
    "for i in range(1, 10):\n",
    "    kmeans = KMeans(n_clusters=i, init='k-means++', n_init=10, random_state=0)\n",
    "    kmeans.fit(pca_df)\n",
    "    wcss.append(kmeans.inertia_)\n",
    "\n",
    "plt.figure(figsize=(10, 6))\n",
    "plt.plot(range(1, 10), wcss, marker='o')\n",
    "plt.title('Elbow Method for Optimal Clusters')\n",
    "plt.xlabel('Number of clusters')\n",
    "plt.ylabel('WCSS')\n",
    "plt.show()"
   ]
  },
  {
   "cell_type": "code",
   "execution_count": 20,
   "metadata": {},
   "outputs": [
    {
     "name": "stderr",
     "output_type": "stream",
     "text": [
      "Evaluating number of clusters:   0%|          | 0/18 [00:00<?, ?it/s]"
     ]
    },
    {
     "name": "stderr",
     "output_type": "stream",
     "text": [
      "Evaluating number of clusters: 100%|██████████| 18/18 [10:36<00:00, 35.38s/it]"
     ]
    },
    {
     "name": "stdout",
     "output_type": "stream",
     "text": [
      "Optimal number of clusters: 2, with silhouette score: 0.693665658854532\n",
      "CPU times: user 16min 27s, sys: 7min 20s, total: 23min 48s\n",
      "Wall time: 10min 37s\n"
     ]
    },
    {
     "name": "stderr",
     "output_type": "stream",
     "text": [
      "\n"
     ]
    }
   ],
   "source": [
    "%%time\n",
    "\n",
    "from sklearn.metrics import silhouette_score\n",
    "\n",
    "# Define the fraction of data to use (e.g., 0.1 for 10%)\n",
    "sample_fraction = 0.1\n",
    "\n",
    "# Sample a subset of the data\n",
    "data_sample = pca_df.sample(frac=sample_fraction, random_state=42)\n",
    "\n",
    "# Determine the optimal number of clusters using a data subset\n",
    "best_score = -1\n",
    "best_k = 0\n",
    "range_n_clusters = list(range(2, 20))\n",
    "\n",
    "# Loop through the range of cluster numbers with tqdm for progress bar\n",
    "for n_clusters in tqdm(range_n_clusters, desc=\"Evaluating number of clusters\"):\n",
    "    kmeans = KMeans(n_clusters=n_clusters, init='k-means++', n_init=10, random_state=0)\n",
    "    cluster_labels = kmeans.fit_predict(data_sample)\n",
    "    silhouette_avg = silhouette_score(data_sample, cluster_labels)\n",
    "    if silhouette_avg > best_score:\n",
    "        best_score = silhouette_avg\n",
    "        best_k = n_clusters\n",
    "\n",
    "print(f\"Optimal number of clusters: {best_k}, with silhouette score: {best_score}\")"
   ]
  },
  {
   "cell_type": "code",
   "execution_count": 21,
   "metadata": {},
   "outputs": [
    {
     "name": "stderr",
     "output_type": "stream",
     "text": [
      "Evaluating number of clusters:   0%|          | 0/18 [00:00<?, ?it/s]"
     ]
    },
    {
     "name": "stderr",
     "output_type": "stream",
     "text": [
      "Evaluating number of clusters:   6%|▌         | 1/18 [00:02<00:46,  2.74s/it]"
     ]
    },
    {
     "name": "stdout",
     "output_type": "stream",
     "text": [
      "k = 2 has CH index 1522179.6843254075\n"
     ]
    },
    {
     "name": "stderr",
     "output_type": "stream",
     "text": [
      "Evaluating number of clusters:  11%|█         | 2/18 [00:06<00:54,  3.40s/it]"
     ]
    },
    {
     "name": "stdout",
     "output_type": "stream",
     "text": [
      "k = 3 has CH index 895196.5432533679\n"
     ]
    },
    {
     "name": "stderr",
     "output_type": "stream",
     "text": [
      "Evaluating number of clusters:  17%|█▋        | 3/18 [00:11<01:01,  4.10s/it]"
     ]
    },
    {
     "name": "stdout",
     "output_type": "stream",
     "text": [
      "k = 4 has CH index 664040.304823834\n"
     ]
    },
    {
     "name": "stderr",
     "output_type": "stream",
     "text": [
      "Evaluating number of clusters:  22%|██▏       | 4/18 [00:17<01:10,  5.03s/it]"
     ]
    },
    {
     "name": "stdout",
     "output_type": "stream",
     "text": [
      "k = 5 has CH index 532776.1268461192\n"
     ]
    },
    {
     "name": "stderr",
     "output_type": "stream",
     "text": [
      "Evaluating number of clusters:  28%|██▊       | 5/18 [00:25<01:16,  5.87s/it]"
     ]
    },
    {
     "name": "stdout",
     "output_type": "stream",
     "text": [
      "k = 6 has CH index 451669.67089161\n"
     ]
    },
    {
     "name": "stderr",
     "output_type": "stream",
     "text": [
      "Evaluating number of clusters:  33%|███▎      | 6/18 [00:35<01:28,  7.40s/it]"
     ]
    },
    {
     "name": "stdout",
     "output_type": "stream",
     "text": [
      "k = 7 has CH index 392538.09403848014\n"
     ]
    },
    {
     "name": "stderr",
     "output_type": "stream",
     "text": [
      "Evaluating number of clusters:  39%|███▉      | 7/18 [00:48<01:41,  9.20s/it]"
     ]
    },
    {
     "name": "stdout",
     "output_type": "stream",
     "text": [
      "k = 8 has CH index 347576.4250974186\n"
     ]
    },
    {
     "name": "stderr",
     "output_type": "stream",
     "text": [
      "Evaluating number of clusters:  44%|████▍     | 8/18 [01:02<01:48, 10.82s/it]"
     ]
    },
    {
     "name": "stdout",
     "output_type": "stream",
     "text": [
      "k = 9 has CH index 314469.7405502282\n"
     ]
    },
    {
     "name": "stderr",
     "output_type": "stream",
     "text": [
      "Evaluating number of clusters:  50%|█████     | 9/18 [01:23<02:03, 13.74s/it]"
     ]
    },
    {
     "name": "stdout",
     "output_type": "stream",
     "text": [
      "k = 10 has CH index 288126.0298230398\n"
     ]
    },
    {
     "name": "stderr",
     "output_type": "stream",
     "text": [
      "Evaluating number of clusters:  56%|█████▌    | 10/18 [01:41<02:01, 15.13s/it]"
     ]
    },
    {
     "name": "stdout",
     "output_type": "stream",
     "text": [
      "k = 11 has CH index 265820.73436492286\n"
     ]
    },
    {
     "name": "stderr",
     "output_type": "stream",
     "text": [
      "Evaluating number of clusters:  61%|██████    | 11/18 [01:54<01:41, 14.53s/it]"
     ]
    },
    {
     "name": "stdout",
     "output_type": "stream",
     "text": [
      "k = 12 has CH index 247943.47086350704\n"
     ]
    },
    {
     "name": "stderr",
     "output_type": "stream",
     "text": [
      "Evaluating number of clusters:  67%|██████▋   | 12/18 [02:12<01:34, 15.73s/it]"
     ]
    },
    {
     "name": "stdout",
     "output_type": "stream",
     "text": [
      "k = 13 has CH index 231785.73815842043\n"
     ]
    },
    {
     "name": "stderr",
     "output_type": "stream",
     "text": [
      "Evaluating number of clusters:  72%|███████▏  | 13/18 [02:28<01:18, 15.72s/it]"
     ]
    },
    {
     "name": "stdout",
     "output_type": "stream",
     "text": [
      "k = 14 has CH index 220811.9565614049\n"
     ]
    },
    {
     "name": "stderr",
     "output_type": "stream",
     "text": [
      "Evaluating number of clusters:  78%|███████▊  | 14/18 [02:50<01:10, 17.70s/it]"
     ]
    },
    {
     "name": "stdout",
     "output_type": "stream",
     "text": [
      "k = 15 has CH index 208870.08461994308\n"
     ]
    },
    {
     "name": "stderr",
     "output_type": "stream",
     "text": [
      "Evaluating number of clusters:  83%|████████▎ | 15/18 [03:09<00:53, 17.93s/it]"
     ]
    },
    {
     "name": "stdout",
     "output_type": "stream",
     "text": [
      "k = 16 has CH index 198881.14774375455\n"
     ]
    },
    {
     "name": "stderr",
     "output_type": "stream",
     "text": [
      "Evaluating number of clusters:  89%|████████▉ | 16/18 [03:37<00:42, 21.01s/it]"
     ]
    },
    {
     "name": "stdout",
     "output_type": "stream",
     "text": [
      "k = 17 has CH index 192357.62180459613\n"
     ]
    },
    {
     "name": "stderr",
     "output_type": "stream",
     "text": [
      "Evaluating number of clusters:  94%|█████████▍| 17/18 [04:00<00:21, 21.51s/it]"
     ]
    },
    {
     "name": "stdout",
     "output_type": "stream",
     "text": [
      "k = 18 has CH index 184266.47978359574\n"
     ]
    },
    {
     "name": "stderr",
     "output_type": "stream",
     "text": [
      "Evaluating number of clusters: 100%|██████████| 18/18 [04:20<00:00, 14.48s/it]"
     ]
    },
    {
     "name": "stdout",
     "output_type": "stream",
     "text": [
      "k = 19 has CH index 177579.92789514907\n",
      "Best k within 2, 3, ..., 19 according to CH index: 2\n",
      "CPU times: user 23min 47s, sys: 1min 11s, total: 24min 58s\n",
      "Wall time: 4min 20s\n"
     ]
    },
    {
     "name": "stderr",
     "output_type": "stream",
     "text": [
      "\n"
     ]
    }
   ],
   "source": [
    "%%time\n",
    "\n",
    "from sklearn.metrics import calinski_harabasz_score\n",
    "\n",
    "best_score = -np.inf\n",
    "best_k = None\n",
    "best_model = None\n",
    "best_cluster_assignments = None\n",
    "\n",
    "data_normalized = pca_df\n",
    "\n",
    "# Loop through the range of k values with tqdm for progress bar\n",
    "for k in tqdm(range(2, 20), desc=\"Evaluating number of clusters\"):\n",
    "    # Fit the KMeans model\n",
    "    candidate_kmeans = KMeans(n_clusters=k, init='k-means++', n_init=10, random_state=0)\n",
    "    candidate_kmeans.fit(data_normalized)\n",
    "    \n",
    "    # Predict the cluster assignments\n",
    "    cluster_assignments = candidate_kmeans.predict(data_normalized)\n",
    "    \n",
    "    # Calculate the Calinski-Harabasz score\n",
    "    score = calinski_harabasz_score(data_normalized, cluster_assignments)\n",
    "    print(f'k = {k} has CH index {score}')\n",
    "    \n",
    "    # Check if the current score is the best\n",
    "    if score > best_score:\n",
    "        best_score = score\n",
    "        best_k = k\n",
    "        best_model = candidate_kmeans\n",
    "        best_cluster_assignments = cluster_assignments\n",
    "\n",
    "# Output the best number of clusters\n",
    "print(f'Best k within 2, 3, ..., 19 according to CH index: {best_k}')"
   ]
  },
  {
   "cell_type": "code",
   "execution_count": 22,
   "metadata": {},
   "outputs": [],
   "source": [
    "# Helper function to get Betweenss (inter-cluster distance)\n",
    "# def get_betweenss(cluster_model):\n",
    "#     betweenss = 0\n",
    "#     overall_mean = np.mean(pca_df, axis=0)\n",
    "#     for i in range(cluster_model.n_clusters):\n",
    "#         cluster_points = pca_df[cluster_model.labels_ == i]\n",
    "#         cluster_mean = np.mean(cluster_points, axis=0)\n",
    "#         cluster_size = len(cluster_points)\n",
    "#         betweenss += cluster_size * np.sum((cluster_mean - overall_mean) ** 2)\n",
    "#     return betweenss\n"
   ]
  },
  {
   "cell_type": "code",
   "execution_count": 23,
   "metadata": {},
   "outputs": [],
   "source": [
    "# Calculate cohesion (the lower the better) and separation (the higher the better)\n",
    "# def get_cohesion_and_separation(cluster_model):\n",
    "#     betweenss = get_betweenss(cluster_model)\n",
    "#     withinss = cluster_model.inertia_\n",
    "#     return [withinss/(betweenss + withinss), betweenss/(betweenss + withinss)]"
   ]
  },
  {
   "cell_type": "code",
   "execution_count": 24,
   "metadata": {},
   "outputs": [],
   "source": [
    "# Allow model comparison with different K values\n",
    "# def compare_models(k_list):\n",
    "#     model_list = []\n",
    "#     for k in k_list:\n",
    "#         kmeans = KMeans(n_clusters=k, random_state=42).fit(pca_df)\n",
    "#         cohesion, separation = get_cohesion_and_separation(kmeans)\n",
    "#         print(f\"K = {k}, Cohesion = {round(cohesion, 3)}, Separation = {round(separation, 3)}\")\n",
    "#         model_list.append(kmeans)\n",
    "#     return model_list\n",
    "\n",
    "# compare_models([5, 10, 15, 20, 25, 30])\n"
   ]
  },
  {
   "cell_type": "code",
   "execution_count": 25,
   "metadata": {},
   "outputs": [
    {
     "name": "stderr",
     "output_type": "stream",
     "text": [
      "/opt/anaconda3/lib/python3.11/site-packages/sklearn/cluster/_kmeans.py:870: FutureWarning: The default value of `n_init` will change from 10 to 'auto' in 1.4. Set the value of `n_init` explicitly to suppress the warning\n",
      "  warnings.warn(\n"
     ]
    },
    {
     "data": {
      "text/html": [
       "<div>\n",
       "<style scoped>\n",
       "    .dataframe tbody tr th:only-of-type {\n",
       "        vertical-align: middle;\n",
       "    }\n",
       "\n",
       "    .dataframe tbody tr th {\n",
       "        vertical-align: top;\n",
       "    }\n",
       "\n",
       "    .dataframe thead th {\n",
       "        text-align: right;\n",
       "    }\n",
       "</style>\n",
       "<table border=\"1\" class=\"dataframe\">\n",
       "  <thead>\n",
       "    <tr style=\"text-align: right;\">\n",
       "      <th></th>\n",
       "      <th>timestamp</th>\n",
       "      <th>handTemperature</th>\n",
       "      <th>handAcc6_1</th>\n",
       "      <th>handAcc6_2</th>\n",
       "      <th>handAcc6_3</th>\n",
       "      <th>handGyro1</th>\n",
       "      <th>handGyro2</th>\n",
       "      <th>handGyro3</th>\n",
       "      <th>handMagne1</th>\n",
       "      <th>handMagne2</th>\n",
       "      <th>...</th>\n",
       "      <th>ankleGyro3</th>\n",
       "      <th>ankleMagne1</th>\n",
       "      <th>ankleMagne2</th>\n",
       "      <th>ankleMagne3</th>\n",
       "      <th>ankleOrientation1</th>\n",
       "      <th>ankleOrientation2</th>\n",
       "      <th>ankleOrientation3</th>\n",
       "      <th>ankleOrientation4</th>\n",
       "      <th>subject_id</th>\n",
       "      <th>label</th>\n",
       "    </tr>\n",
       "  </thead>\n",
       "  <tbody>\n",
       "    <tr>\n",
       "      <th>54744</th>\n",
       "      <td>0.000000</td>\n",
       "      <td>0.000000</td>\n",
       "      <td>0.401837</td>\n",
       "      <td>0.305836</td>\n",
       "      <td>0.312975</td>\n",
       "      <td>0.365663</td>\n",
       "      <td>0.375128</td>\n",
       "      <td>0.348325</td>\n",
       "      <td>0.395243</td>\n",
       "      <td>0.602510</td>\n",
       "      <td>...</td>\n",
       "      <td>0.408262</td>\n",
       "      <td>0.524000</td>\n",
       "      <td>0.606851</td>\n",
       "      <td>0.672272</td>\n",
       "      <td>0.000000</td>\n",
       "      <td>0.417775</td>\n",
       "      <td>0.397926</td>\n",
       "      <td>0.382401</td>\n",
       "      <td>0.000000</td>\n",
       "      <td>2</td>\n",
       "    </tr>\n",
       "    <tr>\n",
       "      <th>440445</th>\n",
       "      <td>0.000010</td>\n",
       "      <td>0.221712</td>\n",
       "      <td>0.407010</td>\n",
       "      <td>0.320915</td>\n",
       "      <td>0.331777</td>\n",
       "      <td>0.363704</td>\n",
       "      <td>0.375426</td>\n",
       "      <td>0.347909</td>\n",
       "      <td>0.414974</td>\n",
       "      <td>0.503768</td>\n",
       "      <td>...</td>\n",
       "      <td>0.408283</td>\n",
       "      <td>0.439128</td>\n",
       "      <td>0.547871</td>\n",
       "      <td>0.552465</td>\n",
       "      <td>0.224084</td>\n",
       "      <td>0.417775</td>\n",
       "      <td>0.397926</td>\n",
       "      <td>0.382401</td>\n",
       "      <td>0.054067</td>\n",
       "      <td>2</td>\n",
       "    </tr>\n",
       "    <tr>\n",
       "      <th>238954</th>\n",
       "      <td>0.000013</td>\n",
       "      <td>0.403079</td>\n",
       "      <td>0.411922</td>\n",
       "      <td>0.332959</td>\n",
       "      <td>0.351309</td>\n",
       "      <td>0.362150</td>\n",
       "      <td>0.376479</td>\n",
       "      <td>0.347719</td>\n",
       "      <td>0.433637</td>\n",
       "      <td>0.396614</td>\n",
       "      <td>...</td>\n",
       "      <td>0.408373</td>\n",
       "      <td>0.346387</td>\n",
       "      <td>0.485368</td>\n",
       "      <td>0.418185</td>\n",
       "      <td>0.407032</td>\n",
       "      <td>0.417775</td>\n",
       "      <td>0.397926</td>\n",
       "      <td>0.382401</td>\n",
       "      <td>0.105361</td>\n",
       "      <td>2</td>\n",
       "    </tr>\n",
       "    <tr>\n",
       "      <th>22854</th>\n",
       "      <td>0.000015</td>\n",
       "      <td>0.403079</td>\n",
       "      <td>0.411586</td>\n",
       "      <td>0.330196</td>\n",
       "      <td>0.352917</td>\n",
       "      <td>0.363331</td>\n",
       "      <td>0.376686</td>\n",
       "      <td>0.348301</td>\n",
       "      <td>0.433644</td>\n",
       "      <td>0.400297</td>\n",
       "      <td>...</td>\n",
       "      <td>0.408238</td>\n",
       "      <td>0.344753</td>\n",
       "      <td>0.486169</td>\n",
       "      <td>0.421614</td>\n",
       "      <td>0.407032</td>\n",
       "      <td>0.417775</td>\n",
       "      <td>0.397926</td>\n",
       "      <td>0.382401</td>\n",
       "      <td>0.105361</td>\n",
       "      <td>2</td>\n",
       "    </tr>\n",
       "    <tr>\n",
       "      <th>366131</th>\n",
       "      <td>0.000020</td>\n",
       "      <td>0.403079</td>\n",
       "      <td>0.411493</td>\n",
       "      <td>0.330628</td>\n",
       "      <td>0.353978</td>\n",
       "      <td>0.366726</td>\n",
       "      <td>0.376706</td>\n",
       "      <td>0.348739</td>\n",
       "      <td>0.433160</td>\n",
       "      <td>0.401241</td>\n",
       "      <td>...</td>\n",
       "      <td>0.407909</td>\n",
       "      <td>0.340365</td>\n",
       "      <td>0.485572</td>\n",
       "      <td>0.420735</td>\n",
       "      <td>0.407032</td>\n",
       "      <td>0.417775</td>\n",
       "      <td>0.397926</td>\n",
       "      <td>0.382401</td>\n",
       "      <td>0.105361</td>\n",
       "      <td>2</td>\n",
       "    </tr>\n",
       "  </tbody>\n",
       "</table>\n",
       "<p>5 rows × 45 columns</p>\n",
       "</div>"
      ],
      "text/plain": [
       "        timestamp  handTemperature  handAcc6_1  handAcc6_2  handAcc6_3  \\\n",
       "54744    0.000000         0.000000    0.401837    0.305836    0.312975   \n",
       "440445   0.000010         0.221712    0.407010    0.320915    0.331777   \n",
       "238954   0.000013         0.403079    0.411922    0.332959    0.351309   \n",
       "22854    0.000015         0.403079    0.411586    0.330196    0.352917   \n",
       "366131   0.000020         0.403079    0.411493    0.330628    0.353978   \n",
       "\n",
       "        handGyro1  handGyro2  handGyro3  handMagne1  handMagne2  ...  \\\n",
       "54744    0.365663   0.375128   0.348325    0.395243    0.602510  ...   \n",
       "440445   0.363704   0.375426   0.347909    0.414974    0.503768  ...   \n",
       "238954   0.362150   0.376479   0.347719    0.433637    0.396614  ...   \n",
       "22854    0.363331   0.376686   0.348301    0.433644    0.400297  ...   \n",
       "366131   0.366726   0.376706   0.348739    0.433160    0.401241  ...   \n",
       "\n",
       "        ankleGyro3  ankleMagne1  ankleMagne2  ankleMagne3  ankleOrientation1  \\\n",
       "54744     0.408262     0.524000     0.606851     0.672272           0.000000   \n",
       "440445    0.408283     0.439128     0.547871     0.552465           0.224084   \n",
       "238954    0.408373     0.346387     0.485368     0.418185           0.407032   \n",
       "22854     0.408238     0.344753     0.486169     0.421614           0.407032   \n",
       "366131    0.407909     0.340365     0.485572     0.420735           0.407032   \n",
       "\n",
       "        ankleOrientation2  ankleOrientation3  ankleOrientation4  subject_id  \\\n",
       "54744            0.417775           0.397926           0.382401    0.000000   \n",
       "440445           0.417775           0.397926           0.382401    0.054067   \n",
       "238954           0.417775           0.397926           0.382401    0.105361   \n",
       "22854            0.417775           0.397926           0.382401    0.105361   \n",
       "366131           0.417775           0.397926           0.382401    0.105361   \n",
       "\n",
       "        label  \n",
       "54744       2  \n",
       "440445      2  \n",
       "238954      2  \n",
       "22854       2  \n",
       "366131      2  \n",
       "\n",
       "[5 rows x 45 columns]"
      ]
     },
     "execution_count": 25,
     "metadata": {},
     "output_type": "execute_result"
    }
   ],
   "source": [
    "# Get baseline model and labeled data\n",
    "kmeans = KMeans(n_clusters=4, random_state=42).fit(pca_df)\n",
    "kmeans_labeled = pca_df.assign(label=kmeans.labels_)\n",
    "kmeans_labeled.head(5)"
   ]
  },
  {
   "cell_type": "code",
   "execution_count": 31,
   "metadata": {},
   "outputs": [
    {
     "name": "stdout",
     "output_type": "stream",
     "text": [
      "        label  activityID\n",
      "0           2           1\n",
      "1           1           2\n",
      "2           0           3\n",
      "3           1           2\n",
      "4           2           1\n",
      "...       ...         ...\n",
      "534596      1           2\n",
      "534597      3           4\n",
      "534598      3           4\n",
      "534599      1           2\n",
      "534600      0           3\n",
      "\n",
      "[534601 rows x 2 columns]\n"
     ]
    }
   ],
   "source": [
    "format_submission(kmeans_labeled)"
   ]
  },
  {
   "cell_type": "code",
   "execution_count": 32,
   "metadata": {},
   "outputs": [
    {
     "name": "stdout",
     "output_type": "stream",
     "text": [
      "Unique clusters: [2 0 3 1]\n"
     ]
    }
   ],
   "source": [
    "unique_clusters = kmeans_labeled['label'].unique()\n",
    "print(f\"Unique clusters: {unique_clusters}\")"
   ]
  },
  {
   "cell_type": "markdown",
   "metadata": {},
   "source": [
    "### GMM"
   ]
  },
  {
   "cell_type": "code",
   "execution_count": 33,
   "metadata": {},
   "outputs": [],
   "source": [
    "from sklearn.mixture import GaussianMixture\n",
    "\n",
    "# # Fit the GMM model\n",
    "# gmm = GaussianMixture(n_components=4, covariance_type='full', n_init=10, random_state=42)\n",
    "# gmm.fit(pca_df)\n",
    "\n",
    "# # Predict cluster labels\n",
    "# gmm_labels = gmm.predict(pca_df)\n",
    "\n",
    "# # Assign labels to the data\n",
    "# gmm_labeled = pca_df.assign(label=gmm_labels)\n",
    "# gmm_labeled.head(5)\n",
    "\n",
    "# # Print the random state of the model\n",
    "# print(f\"The random state of the model is {gmm.random_state}\")"
   ]
  },
  {
   "cell_type": "code",
   "execution_count": 34,
   "metadata": {},
   "outputs": [],
   "source": [
    "# format_submission(gmm_labeled)"
   ]
  },
  {
   "cell_type": "markdown",
   "metadata": {},
   "source": [
    "### Bagging Kmeans"
   ]
  },
  {
   "cell_type": "code",
   "execution_count": 35,
   "metadata": {},
   "outputs": [],
   "source": [
    "# n_clusters = 4\n",
    "# n_bagging_iterations = 15\n",
    "\n",
    "# # Initialize result array\n",
    "# all_labels = np.zeros((pca_df.shape[0], n_bagging_iterations))\n",
    "\n",
    "# for i in range(n_bagging_iterations):\n",
    "#     # Construct the single kmeans model\n",
    "#     pca_df_resampled = resample(pca_df, replace=True, n_samples=round(0.5 * pca_df.shape[0]), random_state=i)\n",
    "#     kmeans = KMeans(n_clusters=n_clusters, random_state=i)\n",
    "#     kmeans.fit(pca_df_resampled)\n",
    "#     raw_label = kmeans.predict(pca_df)\n",
    "#     label_mapping = {}\n",
    "#     activtyID_list = []\n",
    "#     # Reorder label to make it consistent across different interations\n",
    "#     for l in raw_label:\n",
    "#         if len(label_mapping) == 0:\n",
    "#             label_mapping[l] = 1 # Final label starts with 1\n",
    "#             activtyID_list.append(1)\n",
    "#         elif l not in label_mapping:\n",
    "#             label_mapping[l] = max(list(label_mapping.values())) + 1\n",
    "#             activtyID_list.append(label_mapping[l])\n",
    "#         else:\n",
    "#             activtyID_list.append(label_mapping[l])\n",
    "#     all_labels[:, i] = activtyID_list\n",
    "\n",
    "# # Find the consensus label\n",
    "# consensus_labels = np.apply_along_axis(lambda x: np.bincount(x.astype(int)).argmax(), axis=1, arr=all_labels)"
   ]
  },
  {
   "cell_type": "code",
   "execution_count": 36,
   "metadata": {},
   "outputs": [],
   "source": [
    "# submission_df = pd.DataFrame(consensus_labels, index=range(len(pca_df)), columns=[\"activityID\"])\n",
    "# submission_df.to_csv(\"../data/submission_bagged.csv\", index=True, index_label=[\"Index\"])"
   ]
  },
  {
   "cell_type": "markdown",
   "metadata": {},
   "source": [
    "### Boosting Kmeans"
   ]
  },
  {
   "cell_type": "code",
   "execution_count": 37,
   "metadata": {},
   "outputs": [],
   "source": [
    "# n_clusters = 4\n",
    "# n_boosting_iterations = 15\n",
    "# sample_weights = np.ones(pca_df.shape[0])\n",
    "# all_labels = np.zeros((pca_df.shape[0], n_boosting_iterations))\n",
    "\n",
    "# for i in range(n_boosting_iterations):\n",
    "#     # Construct the single kmeans model\n",
    "#     kmeans = KMeans(n_clusters=n_clusters, random_state=i)\n",
    "#     kmeans.fit(pca_df, sample_weight=sample_weights) # cluster based on the weight of data \n",
    "#     labels = kmeans.predict(pca_df)\n",
    "#     label_mapping = {}\n",
    "#     activtyID_list = []\n",
    "#     # Reorder the label to make it consistent across iteration\n",
    "#     for l in raw_label:\n",
    "#         if len(label_mapping) == 0:\n",
    "#             label_mapping[l] = 1 # Final label starts with 1\n",
    "#             activtyID_list.append(1)\n",
    "#         elif l not in label_mapping:\n",
    "#             label_mapping[l] = max(list(label_mapping.values())) + 1\n",
    "#             activtyID_list.append(label_mapping[l])\n",
    "#         else:\n",
    "#             activtyID_list.append(label_mapping[l])\n",
    "#     all_labels[:, i] = activtyID_list\n",
    "#     # Update sample weights based on consistency\n",
    "#     for j in range(pca_df.shape[0]):\n",
    "#         # Increase weight for points that were inconsistently clustered\n",
    "#         if np.sum(all_labels[j, :i+1] == mode(all_labels[j, :i+1]).mode[0]) < (i + 1) / 2:\n",
    "#             sample_weights[j] *= 1.1\n",
    "\n",
    "# sample_weights /= np.sum(sample_weights)\n",
    "# consensus_labels = mode(all_labels, axis=1).mode.flatten()"
   ]
  },
  {
   "cell_type": "code",
   "execution_count": 38,
   "metadata": {},
   "outputs": [],
   "source": [
    "# submission_df = pd.DataFrame(consensus_labels, index=range(len(pca_df)), columns=[\"activityID\"])\n",
    "# submission_df[\"activityID\"] = submission_df[\"activityID\"].astype(int)\n",
    "# submission_df.to_csv(\"../data/submission_boosted.csv\", index=True, index_label=[\"Index\"])"
   ]
  }
 ],
 "metadata": {
  "kernelspec": {
   "display_name": "base",
   "language": "python",
   "name": "python3"
  },
  "language_info": {
   "codemirror_mode": {
    "name": "ipython",
    "version": 3
   },
   "file_extension": ".py",
   "mimetype": "text/x-python",
   "name": "python",
   "nbconvert_exporter": "python",
   "pygments_lexer": "ipython3",
   "version": "3.11.7"
  }
 },
 "nbformat": 4,
 "nbformat_minor": 2
}
